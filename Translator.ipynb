{
 "cells": [
  {
   "cell_type": "code",
   "execution_count": null,
   "metadata": {
    "scrolled": false
   },
   "outputs": [],
   "source": [
    "from googletrans import Translator\n",
    "import googletrans\n",
    "\n",
    "text = input(\"Enter text to be translated\")\n",
    "\n",
    "translator = Translator()\n",
    "\n",
    "lang = translator.detect(text)\n",
    "\n",
    "print(lang)\n",
    "print(googletrans.LANGUAGES)\n",
    "x = input(\"Enter language : from above\")\n",
    "translated = translator.translate(text , dest = x)\n",
    "\n",
    "print(translated.text)\n",
    "\n",
    "\n"
   ]
  }
 ],
 "metadata": {
  "kernelspec": {
   "display_name": "Python 3",
   "language": "python",
   "name": "python3"
  },
  "language_info": {
   "codemirror_mode": {
    "name": "ipython",
    "version": 3
   },
   "file_extension": ".py",
   "mimetype": "text/x-python",
   "name": "python",
   "nbconvert_exporter": "python",
   "pygments_lexer": "ipython3",
   "version": "3.8.0"
  }
 },
 "nbformat": 4,
 "nbformat_minor": 4
}
